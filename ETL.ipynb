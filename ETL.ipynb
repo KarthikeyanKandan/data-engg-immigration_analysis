{
 "cells": [
  {
   "cell_type": "code",
   "execution_count": null,
   "metadata": {
    "editable": true
   },
   "outputs": [],
   "source": []
  },
  {
   "cell_type": "markdown",
   "metadata": {
    "editable": true
   },
   "source": [
    "### Step 1: Scope the Project and Gather Data\n",
    "\n",
    "#### Scope \n",
    "\n",
    "The scope of the project is to get insights and analytics for immigration, airports, and demographics data. The end solution is a data model with star schema with a fact table and five dimension tables which connects immigration data, demographics data, airport data, visa type data and the arrival dates of the immigrants.\n",
    "\n",
    "With this we can get total immigrants using different visa types, total arrivals in different us cities and states, total airports in different US states and much more\n",
    "\n",
    "We use Spark to load and process the data into dataframes. We explore the data initially and then clean the data from null / missing values.\n",
    "\n",
    "We create staging tables and then with the help of those tables we create the end fact and dimension tables. Each dimension table and the fact tables are finally checked for data quality by verifying whether the data is present or not. Each of the end table's results are parquet into for deeper understanding and clarity.\n",
    "\n",
    "#### Describe and Gather Data \n",
    "1. *I94 Immigration Data:* This data comes from the US National Tourism and Trade Office.\n",
    "2. *U.S. City Demographic Data:* This data comes from OpenSoft.This dataset contains information about the demographics of all US cities and census-designated places with a population greater or equal to 65,000. This data comes from the US Census Bureau's 2015 American Community Survey.\n",
    "3. *Airport Code Table:* This is a simple table of airport codes and corresponding cities.\n"
   ]
  },
  {
   "cell_type": "code",
   "execution_count": 1,
   "metadata": {
    "editable": true
   },
   "outputs": [],
   "source": [
    "# Do all imports and installs here\n",
    "import pandas as pd\n",
    "from pyspark.sql import SparkSession\n",
    "from pyspark.sql.functions import *\n",
    "from pyspark.sql.types import StringType as Str, IntegerType as Int\n",
    "from datetime import datetime, timedelta\n",
    "import pyspark.sql.functions as F\n",
    "import re"
   ]
  },
  {
   "cell_type": "code",
   "execution_count": 2,
   "metadata": {
    "editable": true
   },
   "outputs": [],
   "source": [
    "spark = SparkSession.builder.\\\n",
    "config(\"spark.jars.repositories\", \"https://repos.spark-packages.org/\").\\\n",
    "config(\"spark.jars.packages\", \"saurfang:spark-sas7bdat:2.0.0-s_2.11\").\\\n",
    "enableHiveSupport().getOrCreate()"
   ]
  },
  {
   "cell_type": "code",
   "execution_count": 3,
   "metadata": {
    "editable": true
   },
   "outputs": [],
   "source": [
    "immig_fpath = '../../data/18-83510-I94-Data-2016/i94_apr16_sub.sas7bdat'\n",
    "immig_subset = [\"cicid\", \"i94port\", \"i94addr\", \"gender\", \"i94mode\"]"
   ]
  },
  {
   "cell_type": "code",
   "execution_count": 4,
   "metadata": {
    "editable": true
   },
   "outputs": [],
   "source": [
    "dem_file = \"us-cities-demographics.csv\"\n",
    "dem_subset = ['State Code', 'city', 'State', 'Median Age', 'Male Population', 'Female Population', 'Total Population', 'Number of Veterans']"
   ]
  },
  {
   "cell_type": "code",
   "execution_count": 5,
   "metadata": {
    "editable": true
   },
   "outputs": [],
   "source": [
    "airp_file = \"airport-codes_csv.csv\"\n",
    "air_subset = ['ident', 'type', 'name', 'iso_country', 'iso_region', 'elevation_ft']"
   ]
  },
  {
   "cell_type": "code",
   "execution_count": 6,
   "metadata": {
    "editable": true
   },
   "outputs": [],
   "source": [
    "#convert city names to its abbreviation\n",
    "immig_desc = \"I94_SAS_Labels_Descriptions.SAS\"\n",
    "with open(immig_desc) as f:\n",
    "    parsed_val = f.readlines()\n",
    "\n",
    "exp_code = re.compile(r\"\\'(.*)\\'.*\\'(.*)\\'\")\n",
    "city_codes = {}\n",
    "for line in parsed_val[302:961]:\n",
    "    x = exp_code.search(line)\n",
    "    city_codes[x.group(1)] = x.group(2)\n",
    "    \n",
    "@udf(Str())\n",
    "def processed_codes(city):\n",
    "    for a in city_codes:\n",
    "        if city.lower() in city_codes[a].lower():\n",
    "            return a"
   ]
  },
  {
   "cell_type": "markdown",
   "metadata": {
    "editable": true
   },
   "source": [
    "### Working with Demographics data\n",
    "____________________________________________________________________________________________________________________________"
   ]
  },
  {
   "cell_type": "markdown",
   "metadata": {
    "editable": true
   },
   "source": [
    "#### The function *process_demographic* does the following:\n",
    "* read the input demographics data\n",
    "* clean the dataframe from missing values with *clean_data* function\n",
    "* creates a unique monotonically increasing id for each record\n",
    "* convert city names to city codes using the *processed_codes* function\n",
    "* create immigration staging table **staging_demographic**"
   ]
  },
  {
   "cell_type": "code",
   "execution_count": 7,
   "metadata": {
    "editable": true
   },
   "outputs": [],
   "source": [
    "def process_demographic(spark, input_data, subset):\n",
    "    dem_df = spark.read.csv(dem_file, inferSchema=True, header=True, sep=';')\n",
    "    clean_demodf = dem_df.dropna(how='any', subset=subset)\n",
    "    clean_dm = clean_demodf.withColumn('id', monotonically_increasing_id())\n",
    "    clean_dm = clean_dm.withColumn('city_code', processed_codes(clean_dm['City']))\n",
    "    cleansed_dm = clean_dm.dropna(how = 'any', subset = ['city_code'])\n",
    "    staging_demographic = cleansed_dm.select(col('id').alias('id'),\n",
    "                                     col('State Code').alias('state_code'),\n",
    "                                     col('city_code'),\n",
    "                                     col('Median Age').alias('median_age'),\n",
    "                                     col('Male Population').alias('male_population'),\n",
    "                                     col('Female Population').alias('female_population'),\n",
    "                                     col('Total Population').alias('total_population'),\n",
    "                                     col('Number of Veterans').alias('number_of_veterans'),\n",
    "                                     col('Foreign-born').alias('foreign_born'),\n",
    "                                     col('Average Household Size').alias('average_household_size'),\n",
    "                                     col('race'),\n",
    "                                     col('count')).dropDuplicates()\n",
    "    return clean_demodf, staging_demographic\n",
    "    "
   ]
  },
  {
   "cell_type": "code",
   "execution_count": 8,
   "metadata": {
    "editable": true
   },
   "outputs": [],
   "source": [
    "clean_demodf, staging_demographic = process_demographic(spark, dem_file, dem_subset)"
   ]
  },
  {
   "cell_type": "code",
   "execution_count": 9,
   "metadata": {
    "editable": true
   },
   "outputs": [
    {
     "data": {
      "text/html": [
       "<div>\n",
       "<style scoped>\n",
       "    .dataframe tbody tr th:only-of-type {\n",
       "        vertical-align: middle;\n",
       "    }\n",
       "\n",
       "    .dataframe tbody tr th {\n",
       "        vertical-align: top;\n",
       "    }\n",
       "\n",
       "    .dataframe thead th {\n",
       "        text-align: right;\n",
       "    }\n",
       "</style>\n",
       "<table border=\"1\" class=\"dataframe\">\n",
       "  <thead>\n",
       "    <tr style=\"text-align: right;\">\n",
       "      <th></th>\n",
       "      <th>id</th>\n",
       "      <th>state_code</th>\n",
       "      <th>city_code</th>\n",
       "      <th>median_age</th>\n",
       "      <th>male_population</th>\n",
       "      <th>female_population</th>\n",
       "      <th>total_population</th>\n",
       "      <th>number_of_veterans</th>\n",
       "      <th>foreign_born</th>\n",
       "      <th>average_household_size</th>\n",
       "      <th>race</th>\n",
       "      <th>count</th>\n",
       "    </tr>\n",
       "  </thead>\n",
       "  <tbody>\n",
       "    <tr>\n",
       "      <th>0</th>\n",
       "      <td>463</td>\n",
       "      <td>AR</td>\n",
       "      <td>LIA</td>\n",
       "      <td>36.6</td>\n",
       "      <td>96997</td>\n",
       "      <td>100989</td>\n",
       "      <td>197986</td>\n",
       "      <td>12343</td>\n",
       "      <td>16640</td>\n",
       "      <td>2.36</td>\n",
       "      <td>White</td>\n",
       "      <td>102312</td>\n",
       "    </tr>\n",
       "    <tr>\n",
       "      <th>1</th>\n",
       "      <td>591</td>\n",
       "      <td>CA</td>\n",
       "      <td>LNB</td>\n",
       "      <td>34.6</td>\n",
       "      <td>238159</td>\n",
       "      <td>236013</td>\n",
       "      <td>474172</td>\n",
       "      <td>17463</td>\n",
       "      <td>127764</td>\n",
       "      <td>2.78</td>\n",
       "      <td>White</td>\n",
       "      <td>277962</td>\n",
       "    </tr>\n",
       "    <tr>\n",
       "      <th>2</th>\n",
       "      <td>1019</td>\n",
       "      <td>CA</td>\n",
       "      <td>SAC</td>\n",
       "      <td>33.7</td>\n",
       "      <td>237724</td>\n",
       "      <td>252991</td>\n",
       "      <td>490715</td>\n",
       "      <td>19698</td>\n",
       "      <td>112579</td>\n",
       "      <td>2.73</td>\n",
       "      <td>White</td>\n",
       "      <td>268151</td>\n",
       "    </tr>\n",
       "    <tr>\n",
       "      <th>3</th>\n",
       "      <td>1542</td>\n",
       "      <td>IL</td>\n",
       "      <td>PIA</td>\n",
       "      <td>33.1</td>\n",
       "      <td>56229</td>\n",
       "      <td>62432</td>\n",
       "      <td>118661</td>\n",
       "      <td>6634</td>\n",
       "      <td>7517</td>\n",
       "      <td>2.40</td>\n",
       "      <td>White</td>\n",
       "      <td>77074</td>\n",
       "    </tr>\n",
       "    <tr>\n",
       "      <th>4</th>\n",
       "      <td>2277</td>\n",
       "      <td>AZ</td>\n",
       "      <td>TUC</td>\n",
       "      <td>33.6</td>\n",
       "      <td>264893</td>\n",
       "      <td>266781</td>\n",
       "      <td>531674</td>\n",
       "      <td>38182</td>\n",
       "      <td>82220</td>\n",
       "      <td>2.45</td>\n",
       "      <td>Asian</td>\n",
       "      <td>24689</td>\n",
       "    </tr>\n",
       "    <tr>\n",
       "      <th>5</th>\n",
       "      <td>2642</td>\n",
       "      <td>TN</td>\n",
       "      <td>MEM</td>\n",
       "      <td>34.1</td>\n",
       "      <td>312237</td>\n",
       "      <td>343523</td>\n",
       "      <td>655760</td>\n",
       "      <td>31189</td>\n",
       "      <td>43318</td>\n",
       "      <td>2.55</td>\n",
       "      <td>Black or African-American</td>\n",
       "      <td>420983</td>\n",
       "    </tr>\n",
       "    <tr>\n",
       "      <th>6</th>\n",
       "      <td>2259</td>\n",
       "      <td>FL</td>\n",
       "      <td>WPB</td>\n",
       "      <td>39.6</td>\n",
       "      <td>49262</td>\n",
       "      <td>57520</td>\n",
       "      <td>106782</td>\n",
       "      <td>4917</td>\n",
       "      <td>30675</td>\n",
       "      <td>2.53</td>\n",
       "      <td>Asian</td>\n",
       "      <td>3191</td>\n",
       "    </tr>\n",
       "    <tr>\n",
       "      <th>7</th>\n",
       "      <td>2347</td>\n",
       "      <td>CA</td>\n",
       "      <td>IND</td>\n",
       "      <td>35.9</td>\n",
       "      <td>43803</td>\n",
       "      <td>43723</td>\n",
       "      <td>87526</td>\n",
       "      <td>3647</td>\n",
       "      <td>22538</td>\n",
       "      <td>3.08</td>\n",
       "      <td>Asian</td>\n",
       "      <td>2866</td>\n",
       "    </tr>\n",
       "    <tr>\n",
       "      <th>8</th>\n",
       "      <td>2837</td>\n",
       "      <td>OR</td>\n",
       "      <td>SBN</td>\n",
       "      <td>37.3</td>\n",
       "      <td>42294</td>\n",
       "      <td>44723</td>\n",
       "      <td>87017</td>\n",
       "      <td>6199</td>\n",
       "      <td>3032</td>\n",
       "      <td>2.39</td>\n",
       "      <td>American Indian and Alaska Native</td>\n",
       "      <td>1818</td>\n",
       "    </tr>\n",
       "    <tr>\n",
       "      <th>9</th>\n",
       "      <td>305</td>\n",
       "      <td>PA</td>\n",
       "      <td>PHI</td>\n",
       "      <td>34.1</td>\n",
       "      <td>741270</td>\n",
       "      <td>826172</td>\n",
       "      <td>1567442</td>\n",
       "      <td>61995</td>\n",
       "      <td>205339</td>\n",
       "      <td>2.61</td>\n",
       "      <td>Black or African-American</td>\n",
       "      <td>691186</td>\n",
       "    </tr>\n",
       "  </tbody>\n",
       "</table>\n",
       "</div>"
      ],
      "text/plain": [
       "     id state_code city_code  median_age  male_population  female_population  \\\n",
       "0   463         AR       LIA        36.6            96997             100989   \n",
       "1   591         CA       LNB        34.6           238159             236013   \n",
       "2  1019         CA       SAC        33.7           237724             252991   \n",
       "3  1542         IL       PIA        33.1            56229              62432   \n",
       "4  2277         AZ       TUC        33.6           264893             266781   \n",
       "5  2642         TN       MEM        34.1           312237             343523   \n",
       "6  2259         FL       WPB        39.6            49262              57520   \n",
       "7  2347         CA       IND        35.9            43803              43723   \n",
       "8  2837         OR       SBN        37.3            42294              44723   \n",
       "9   305         PA       PHI        34.1           741270             826172   \n",
       "\n",
       "   total_population  number_of_veterans  foreign_born  average_household_size  \\\n",
       "0            197986               12343         16640                    2.36   \n",
       "1            474172               17463        127764                    2.78   \n",
       "2            490715               19698        112579                    2.73   \n",
       "3            118661                6634          7517                    2.40   \n",
       "4            531674               38182         82220                    2.45   \n",
       "5            655760               31189         43318                    2.55   \n",
       "6            106782                4917         30675                    2.53   \n",
       "7             87526                3647         22538                    3.08   \n",
       "8             87017                6199          3032                    2.39   \n",
       "9           1567442               61995        205339                    2.61   \n",
       "\n",
       "                                race   count  \n",
       "0                              White  102312  \n",
       "1                              White  277962  \n",
       "2                              White  268151  \n",
       "3                              White   77074  \n",
       "4                              Asian   24689  \n",
       "5          Black or African-American  420983  \n",
       "6                              Asian    3191  \n",
       "7                              Asian    2866  \n",
       "8  American Indian and Alaska Native    1818  \n",
       "9          Black or African-American  691186  "
      ]
     },
     "execution_count": 9,
     "metadata": {},
     "output_type": "execute_result"
    }
   ],
   "source": [
    "staging_demographic.limit(10).toPandas()"
   ]
  },
  {
   "cell_type": "code",
   "execution_count": 10,
   "metadata": {
    "editable": true
   },
   "outputs": [],
   "source": [
    "#defining function to convert date to readable pythonic format(yyyy-mm-dd)\n",
    "@udf(Str())\n",
    "def process_dates(date):\n",
    "    if date:\n",
    "        return (datetime(1960,1,1).date() + timedelta(date)).isoformat()\n",
    "    return None"
   ]
  },
  {
   "cell_type": "code",
   "execution_count": 11,
   "metadata": {
    "editable": true
   },
   "outputs": [],
   "source": [
    "#get US only distinct states from immigration data by getting the state code from demographics data\n",
    "us_states = clean_demodf.toPandas()['State Code'].unique()\n",
    "a = us_states.tolist()\n",
    "#defining a funtion to filter us only states from immigration dataframe\n",
    "@udf(Str())\n",
    "def filter_statecode(state):\n",
    "    if state in us_states:\n",
    "        return state\n",
    "    return 'noUS'"
   ]
  },
  {
   "cell_type": "code",
   "execution_count": 12,
   "metadata": {
    "editable": true
   },
   "outputs": [],
   "source": [
    "#defining a funtion to clean data frames from missing empty values\n",
    "def clean_data(df, subset):\n",
    "    clean_df = df.dropna(how='any', subset=subset)\n",
    "    return clean_df"
   ]
  },
  {
   "cell_type": "markdown",
   "metadata": {
    "editable": true
   },
   "source": [
    "### Working with Immigration data\n",
    "\n",
    "____________________________________________________________________________________________________________________________"
   ]
  },
  {
   "cell_type": "markdown",
   "metadata": {
    "editable": true
   },
   "source": [
    "#### The function *process_immigration* does the following:\n",
    "* read the input immigration data\n",
    "* clean the dataframe from missing values with *clean_data* function\n",
    "* convert the arrival date from sas to pythonic readable date format using *process_dates* function\n",
    "* filter out data for US only states\n",
    "* create immigration staging table **staging_immigration**"
   ]
  },
  {
   "cell_type": "code",
   "execution_count": 13,
   "metadata": {
    "editable": true
   },
   "outputs": [],
   "source": [
    "def process_immigration(spark, input_data, subset, a):\n",
    "    immig_df = spark.read.format('com.github.saurfang.sas.spark').load(input_data)\n",
    "    clean_immig_df = clean_data(immig_df, subset)\n",
    "    clean_immig_df = clean_immig_df.withColumn(\"arrdate\", process_dates(clean_immig_df.arrdate))\n",
    "    clean_immig_df = clean_immig_df.withColumn(\"i94addr\", filter_statecode(clean_immig_df.i94addr))\n",
    "    clean_immig_df = clean_immig_df.filter((clean_immig_df.i94addr).isin(a))\n",
    "    staging_immigration = clean_immig_df.select(col('cicid').alias('Id'),\n",
    "                                           col('gender').alias('Gender'),\n",
    "                                           col('i94bir').alias('Age'), \n",
    "                                           col('i94mode').alias('Mode_Of_Arrival'),\n",
    "                                           col('arrdate').alias('Arrival_Date'),\n",
    "                                           col('i94port').alias('City_Code'),\n",
    "                                           col('i94addr').alias('State_Code'),\n",
    "                                           col('visatype').alias('Visa_Type'),\n",
    "                                           'count').dropDuplicates()\n",
    "    return immig_df, staging_immigration\n",
    "    "
   ]
  },
  {
   "cell_type": "code",
   "execution_count": 14,
   "metadata": {
    "editable": true
   },
   "outputs": [],
   "source": [
    "immig_df, staging_immigration = process_immigration(spark, immig_fpath, immig_subset, a)"
   ]
  },
  {
   "cell_type": "code",
   "execution_count": 15,
   "metadata": {
    "editable": true
   },
   "outputs": [
    {
     "data": {
      "text/html": [
       "<div>\n",
       "<style scoped>\n",
       "    .dataframe tbody tr th:only-of-type {\n",
       "        vertical-align: middle;\n",
       "    }\n",
       "\n",
       "    .dataframe tbody tr th {\n",
       "        vertical-align: top;\n",
       "    }\n",
       "\n",
       "    .dataframe thead th {\n",
       "        text-align: right;\n",
       "    }\n",
       "</style>\n",
       "<table border=\"1\" class=\"dataframe\">\n",
       "  <thead>\n",
       "    <tr style=\"text-align: right;\">\n",
       "      <th></th>\n",
       "      <th>Id</th>\n",
       "      <th>Gender</th>\n",
       "      <th>Age</th>\n",
       "      <th>Mode_Of_Arrival</th>\n",
       "      <th>Arrival_Date</th>\n",
       "      <th>City_Code</th>\n",
       "      <th>State_Code</th>\n",
       "      <th>Visa_Type</th>\n",
       "      <th>count</th>\n",
       "    </tr>\n",
       "  </thead>\n",
       "  <tbody>\n",
       "    <tr>\n",
       "      <th>0</th>\n",
       "      <td>939.0</td>\n",
       "      <td>F</td>\n",
       "      <td>42.0</td>\n",
       "      <td>1.0</td>\n",
       "      <td>2016-04-01</td>\n",
       "      <td>NEW</td>\n",
       "      <td>NY</td>\n",
       "      <td>WT</td>\n",
       "      <td>1.0</td>\n",
       "    </tr>\n",
       "    <tr>\n",
       "      <th>1</th>\n",
       "      <td>1151.0</td>\n",
       "      <td>F</td>\n",
       "      <td>60.0</td>\n",
       "      <td>1.0</td>\n",
       "      <td>2016-04-01</td>\n",
       "      <td>ATL</td>\n",
       "      <td>DC</td>\n",
       "      <td>WT</td>\n",
       "      <td>1.0</td>\n",
       "    </tr>\n",
       "    <tr>\n",
       "      <th>2</th>\n",
       "      <td>1513.0</td>\n",
       "      <td>M</td>\n",
       "      <td>12.0</td>\n",
       "      <td>1.0</td>\n",
       "      <td>2016-04-01</td>\n",
       "      <td>NYC</td>\n",
       "      <td>NY</td>\n",
       "      <td>WT</td>\n",
       "      <td>1.0</td>\n",
       "    </tr>\n",
       "    <tr>\n",
       "      <th>3</th>\n",
       "      <td>1910.0</td>\n",
       "      <td>M</td>\n",
       "      <td>20.0</td>\n",
       "      <td>1.0</td>\n",
       "      <td>2016-04-01</td>\n",
       "      <td>SFR</td>\n",
       "      <td>CA</td>\n",
       "      <td>F1</td>\n",
       "      <td>1.0</td>\n",
       "    </tr>\n",
       "    <tr>\n",
       "      <th>4</th>\n",
       "      <td>2550.0</td>\n",
       "      <td>M</td>\n",
       "      <td>42.0</td>\n",
       "      <td>1.0</td>\n",
       "      <td>2016-04-01</td>\n",
       "      <td>NEW</td>\n",
       "      <td>NY</td>\n",
       "      <td>B2</td>\n",
       "      <td>1.0</td>\n",
       "    </tr>\n",
       "    <tr>\n",
       "      <th>5</th>\n",
       "      <td>3797.0</td>\n",
       "      <td>F</td>\n",
       "      <td>61.0</td>\n",
       "      <td>1.0</td>\n",
       "      <td>2016-04-01</td>\n",
       "      <td>LVG</td>\n",
       "      <td>NV</td>\n",
       "      <td>WT</td>\n",
       "      <td>1.0</td>\n",
       "    </tr>\n",
       "    <tr>\n",
       "      <th>6</th>\n",
       "      <td>3886.0</td>\n",
       "      <td>F</td>\n",
       "      <td>24.0</td>\n",
       "      <td>1.0</td>\n",
       "      <td>2016-04-01</td>\n",
       "      <td>ATL</td>\n",
       "      <td>NY</td>\n",
       "      <td>WT</td>\n",
       "      <td>1.0</td>\n",
       "    </tr>\n",
       "    <tr>\n",
       "      <th>7</th>\n",
       "      <td>4032.0</td>\n",
       "      <td>F</td>\n",
       "      <td>6.0</td>\n",
       "      <td>1.0</td>\n",
       "      <td>2016-04-01</td>\n",
       "      <td>NYC</td>\n",
       "      <td>NJ</td>\n",
       "      <td>WT</td>\n",
       "      <td>1.0</td>\n",
       "    </tr>\n",
       "    <tr>\n",
       "      <th>8</th>\n",
       "      <td>4056.0</td>\n",
       "      <td>M</td>\n",
       "      <td>70.0</td>\n",
       "      <td>1.0</td>\n",
       "      <td>2016-04-01</td>\n",
       "      <td>NYC</td>\n",
       "      <td>NY</td>\n",
       "      <td>WT</td>\n",
       "      <td>1.0</td>\n",
       "    </tr>\n",
       "    <tr>\n",
       "      <th>9</th>\n",
       "      <td>4201.0</td>\n",
       "      <td>F</td>\n",
       "      <td>63.0</td>\n",
       "      <td>1.0</td>\n",
       "      <td>2016-04-01</td>\n",
       "      <td>SPM</td>\n",
       "      <td>MN</td>\n",
       "      <td>WT</td>\n",
       "      <td>1.0</td>\n",
       "    </tr>\n",
       "  </tbody>\n",
       "</table>\n",
       "</div>"
      ],
      "text/plain": [
       "       Id Gender   Age  Mode_Of_Arrival Arrival_Date City_Code State_Code  \\\n",
       "0   939.0      F  42.0              1.0   2016-04-01       NEW         NY   \n",
       "1  1151.0      F  60.0              1.0   2016-04-01       ATL         DC   \n",
       "2  1513.0      M  12.0              1.0   2016-04-01       NYC         NY   \n",
       "3  1910.0      M  20.0              1.0   2016-04-01       SFR         CA   \n",
       "4  2550.0      M  42.0              1.0   2016-04-01       NEW         NY   \n",
       "5  3797.0      F  61.0              1.0   2016-04-01       LVG         NV   \n",
       "6  3886.0      F  24.0              1.0   2016-04-01       ATL         NY   \n",
       "7  4032.0      F   6.0              1.0   2016-04-01       NYC         NJ   \n",
       "8  4056.0      M  70.0              1.0   2016-04-01       NYC         NY   \n",
       "9  4201.0      F  63.0              1.0   2016-04-01       SPM         MN   \n",
       "\n",
       "  Visa_Type  count  \n",
       "0        WT    1.0  \n",
       "1        WT    1.0  \n",
       "2        WT    1.0  \n",
       "3        F1    1.0  \n",
       "4        B2    1.0  \n",
       "5        WT    1.0  \n",
       "6        WT    1.0  \n",
       "7        WT    1.0  \n",
       "8        WT    1.0  \n",
       "9        WT    1.0  "
      ]
     },
     "execution_count": 15,
     "metadata": {},
     "output_type": "execute_result"
    }
   ],
   "source": [
    "staging_immigration.limit(10).toPandas()"
   ]
  },
  {
   "cell_type": "markdown",
   "metadata": {
    "editable": true
   },
   "source": [
    "____________________________________________________________________________________________________________________________"
   ]
  },
  {
   "cell_type": "markdown",
   "metadata": {
    "editable": true
   },
   "source": [
    "### Working with Airports data\n",
    "\n",
    "____________________________________________________________________________________________________________________________\n",
    "\n",
    "#### The function *process_airports* does the following:\n",
    "* read the input airports data\n",
    "* clean the dataframe from missing values with *clean_data* function\n",
    "* filter out airports located only in the US\n",
    "* remove the prefix from region to get well formated state code\n",
    "* create airports staging table **staging_airports**"
   ]
  },
  {
   "cell_type": "code",
   "execution_count": 16,
   "metadata": {
    "editable": true
   },
   "outputs": [],
   "source": [
    "def process_airports(spark, input_data, subset):\n",
    "    airp_df = spark.read.csv(airp_file, inferSchema=True, header=True, sep=',')\n",
    "    clean_adf = clean_data(airp_df, subset)\n",
    "    clean_adf_us = clean_adf.filter(clean_adf.iso_country == 'US')\n",
    "    clean_airdf = clean_adf_us.withColumn('iso_region', F.regexp_replace('iso_region', 'US-', ''))\n",
    "    staging_airports = clean_airdf.select(col('ident').alias('Id'),\n",
    "                                         col('name').alias('Name'),\n",
    "                                         col('type').alias('Type'),\n",
    "                                         col('elevation_ft').alias('Elevation_ft'),\n",
    "                                         col('iso_region').alias('State_Code'),\n",
    "                                         col('iso_country').alias('Country_Code')).dropDuplicates()\n",
    "    return staging_airports"
   ]
  },
  {
   "cell_type": "code",
   "execution_count": 17,
   "metadata": {
    "editable": true
   },
   "outputs": [],
   "source": [
    "staging_airports = process_airports(spark, airp_file, air_subset)"
   ]
  },
  {
   "cell_type": "code",
   "execution_count": 18,
   "metadata": {
    "editable": true
   },
   "outputs": [
    {
     "data": {
      "text/html": [
       "<div>\n",
       "<style scoped>\n",
       "    .dataframe tbody tr th:only-of-type {\n",
       "        vertical-align: middle;\n",
       "    }\n",
       "\n",
       "    .dataframe tbody tr th {\n",
       "        vertical-align: top;\n",
       "    }\n",
       "\n",
       "    .dataframe thead th {\n",
       "        text-align: right;\n",
       "    }\n",
       "</style>\n",
       "<table border=\"1\" class=\"dataframe\">\n",
       "  <thead>\n",
       "    <tr style=\"text-align: right;\">\n",
       "      <th></th>\n",
       "      <th>Id</th>\n",
       "      <th>Name</th>\n",
       "      <th>Type</th>\n",
       "      <th>Elevation_ft</th>\n",
       "      <th>State_Code</th>\n",
       "      <th>Country_Code</th>\n",
       "    </tr>\n",
       "  </thead>\n",
       "  <tbody>\n",
       "    <tr>\n",
       "      <th>0</th>\n",
       "      <td>01PS</td>\n",
       "      <td>Nort's Resort Airport</td>\n",
       "      <td>small_airport</td>\n",
       "      <td>1040</td>\n",
       "      <td>PA</td>\n",
       "      <td>US</td>\n",
       "    </tr>\n",
       "    <tr>\n",
       "      <th>1</th>\n",
       "      <td>04FA</td>\n",
       "      <td>Richards Field</td>\n",
       "      <td>small_airport</td>\n",
       "      <td>9</td>\n",
       "      <td>FL</td>\n",
       "      <td>US</td>\n",
       "    </tr>\n",
       "    <tr>\n",
       "      <th>2</th>\n",
       "      <td>04OK</td>\n",
       "      <td>Stillwater Medical Center Heliport</td>\n",
       "      <td>heliport</td>\n",
       "      <td>984</td>\n",
       "      <td>OK</td>\n",
       "      <td>US</td>\n",
       "    </tr>\n",
       "    <tr>\n",
       "      <th>3</th>\n",
       "      <td>09XS</td>\n",
       "      <td>Baptist Medical Center Heliport</td>\n",
       "      <td>heliport</td>\n",
       "      <td>710</td>\n",
       "      <td>TX</td>\n",
       "      <td>US</td>\n",
       "    </tr>\n",
       "    <tr>\n",
       "      <th>4</th>\n",
       "      <td>0CL4</td>\n",
       "      <td>Glen Fed Heliport</td>\n",
       "      <td>heliport</td>\n",
       "      <td>770</td>\n",
       "      <td>CA</td>\n",
       "      <td>US</td>\n",
       "    </tr>\n",
       "    <tr>\n",
       "      <th>5</th>\n",
       "      <td>0IL6</td>\n",
       "      <td>Kishwaukee Community Hospital Heliport</td>\n",
       "      <td>heliport</td>\n",
       "      <td>852</td>\n",
       "      <td>IL</td>\n",
       "      <td>US</td>\n",
       "    </tr>\n",
       "    <tr>\n",
       "      <th>6</th>\n",
       "      <td>0N5</td>\n",
       "      <td>Deldot Helistop</td>\n",
       "      <td>heliport</td>\n",
       "      <td>30</td>\n",
       "      <td>DE</td>\n",
       "      <td>US</td>\n",
       "    </tr>\n",
       "    <tr>\n",
       "      <th>7</th>\n",
       "      <td>0NK3</td>\n",
       "      <td>Seven Gullies Airport</td>\n",
       "      <td>small_airport</td>\n",
       "      <td>600</td>\n",
       "      <td>NY</td>\n",
       "      <td>US</td>\n",
       "    </tr>\n",
       "    <tr>\n",
       "      <th>8</th>\n",
       "      <td>12XS</td>\n",
       "      <td>Mc Croskey Field</td>\n",
       "      <td>small_airport</td>\n",
       "      <td>253</td>\n",
       "      <td>AR</td>\n",
       "      <td>US</td>\n",
       "    </tr>\n",
       "    <tr>\n",
       "      <th>9</th>\n",
       "      <td>19FL</td>\n",
       "      <td>The Villages Heliport</td>\n",
       "      <td>heliport</td>\n",
       "      <td>103</td>\n",
       "      <td>FL</td>\n",
       "      <td>US</td>\n",
       "    </tr>\n",
       "  </tbody>\n",
       "</table>\n",
       "</div>"
      ],
      "text/plain": [
       "     Id                                    Name           Type  Elevation_ft  \\\n",
       "0  01PS                   Nort's Resort Airport  small_airport          1040   \n",
       "1  04FA                          Richards Field  small_airport             9   \n",
       "2  04OK      Stillwater Medical Center Heliport       heliport           984   \n",
       "3  09XS         Baptist Medical Center Heliport       heliport           710   \n",
       "4  0CL4                       Glen Fed Heliport       heliport           770   \n",
       "5  0IL6  Kishwaukee Community Hospital Heliport       heliport           852   \n",
       "6   0N5                         Deldot Helistop       heliport            30   \n",
       "7  0NK3                   Seven Gullies Airport  small_airport           600   \n",
       "8  12XS                        Mc Croskey Field  small_airport           253   \n",
       "9  19FL                   The Villages Heliport       heliport           103   \n",
       "\n",
       "  State_Code Country_Code  \n",
       "0         PA           US  \n",
       "1         FL           US  \n",
       "2         OK           US  \n",
       "3         TX           US  \n",
       "4         CA           US  \n",
       "5         IL           US  \n",
       "6         DE           US  \n",
       "7         NY           US  \n",
       "8         AR           US  \n",
       "9         FL           US  "
      ]
     },
     "execution_count": 18,
     "metadata": {},
     "output_type": "execute_result"
    }
   ],
   "source": [
    "staging_airports.limit(10).toPandas()"
   ]
  },
  {
   "cell_type": "code",
   "execution_count": 19,
   "metadata": {
    "editable": true
   },
   "outputs": [
    {
     "data": {
      "text/plain": [
       "22518"
      ]
     },
     "execution_count": 19,
     "metadata": {},
     "output_type": "execute_result"
    }
   ],
   "source": [
    "staging_airports.count()"
   ]
  },
  {
   "cell_type": "markdown",
   "metadata": {
    "editable": true
   },
   "source": [
    "____________________________________________________________________________________________________________________________\n"
   ]
  },
  {
   "cell_type": "markdown",
   "metadata": {
    "editable": true
   },
   "source": [
    "### Creating visa staging table\n",
    "\n",
    "____________________________________________________________________________________________________________________________\n",
    "\n",
    "#### The function *process_visatype* does the following:\n",
    "* get the distinct visa type data from immigration dataframe\n",
    "* creates a unique monotonically increasing id for each record\n",
    "* create visa types staging table **staging_visatype**"
   ]
  },
  {
   "cell_type": "code",
   "execution_count": 19,
   "metadata": {
    "editable": true
   },
   "outputs": [],
   "source": [
    "def process_visatype(df):\n",
    "    visa_df = df.select(['visatype']).distinct()\n",
    "    v_df = visa_df.withColumn('visa_type_id', monotonically_increasing_id())\n",
    "    staging_visatype = v_df.select(col('visa_type_id'),\n",
    "                              col('visatype').alias('visa_type'))\n",
    "    return staging_visatype"
   ]
  },
  {
   "cell_type": "code",
   "execution_count": 20,
   "metadata": {
    "editable": true
   },
   "outputs": [],
   "source": [
    "staging_visatype = process_visatype(immig_df)"
   ]
  },
  {
   "cell_type": "code",
   "execution_count": 22,
   "metadata": {
    "editable": true
   },
   "outputs": [
    {
     "data": {
      "text/plain": [
       "17"
      ]
     },
     "execution_count": 22,
     "metadata": {},
     "output_type": "execute_result"
    }
   ],
   "source": [
    "staging_visatype.count()"
   ]
  },
  {
   "cell_type": "markdown",
   "metadata": {
    "editable": true
   },
   "source": [
    "____________________________________________________________________________________________________________________________"
   ]
  },
  {
   "cell_type": "markdown",
   "metadata": {
    "editable": true
   },
   "source": [
    "## Step 3: Define the Data Model\n",
    "### 3.1 Conceptual Data Model\n",
    "#### Staging Tables:\n",
    "    1. staging_immigration\n",
    "    2. staging_airports\n",
    "    3. staging_demographic\n",
    "    4. staging_visatype\n",
    "\n",
    "### ERD\n",
    "![erd](updated_erd.png)\n",
    "\n",
    "#### Dimension Tables:\n",
    "    1. dim_immigrant\n",
    "    2. dim_demographic\n",
    "    3. dim_state\n",
    "    4. dim_visatype\n",
    "    5. dim_airport\n",
    "    6. dim_arrivaldate\n",
    "\n",
    "#### Fact Table:\n",
    "    1. immig_fact\n",
    "    \n",
    "\n",
    "#### the proposed data model if of star schema\n",
    "Star schemas are easy for end users and applications to understand and navigate. With a well-designed schema, users can quickly analyze large, multidimensional data sets. The main advantages of star schemas in a decision-support environment are:\n",
    "\n",
    "    * Query performance\n",
    "        - Because a star schema database has a small number of tables and clear join paths, queries run faster than they do against an OLTP system. Small single-table queries, usually of dimension tables, are almost instantaneous. Large join queries that involve multiple tables take only seconds or minutes to run. In a star schema database design, the dimensions are linked only through the central fact table. When two dimension tables are used in a query, only one join path, intersecting the fact table, exists between those two tables. This design feature enforces accurate and consistent query results.\n",
    "\n",
    "    * Load performance and administration\n",
    "        Structural simplicity also reduces the time required to load large batches of data into a star schema database. By defining facts and dimensions and separating them into different tables, the impact of a load operation is reduced. Dimension tables can be populated once and occasionally refreshed. You can add new facts regularly and selectively by appending records to a fact table.\n",
    "\n",
    "    * Built-in referential integrity\n",
    "        A star schema has referential integrity built in when data is loaded. Referential integrity is enforced because each record in a dimension table has a unique primary key, and all keys in the fact tables are legitimate foreign keys drawn from the dimension tables. A record in the fact table that is not related correctly to a dimension cannot be given the correct key value to be retrieved.\n",
    "\n",
    "    * Easily understood\n",
    "        A star schema is easy to understand and navigate, with dimensions joined only through the fact table. These joins are more significant to the end user, because they represent the fundamental relationship between parts of the underlying business. Users can also browse dimension table attributes before constructing a query.\n",
    "\n",
    "#### 3.2 Mapping Out Data Pipelines\n",
    "List the steps necessary to pipeline the data into the chosen data model\n",
    "\n",
    "1. **Data clansing:** remove nulls, duplicates from the data\n",
    "2. **Process data:** filter out unwanted columns and process data such as changing datatype format, get distinct values, narrow down to single country etc\n",
    "3. **Create Staging tables**: Create immigration, demographic, airports and visatype staging tables\n",
    "4. **Create Dimension tables:** Create immigrant, demographic, state, airports, visatype and arrivaldate dimension tables\n",
    "5. **Create Fact table:** Create immigration fact table\n",
    "6. **Save the final result in parquet**"
   ]
  },
  {
   "cell_type": "markdown",
   "metadata": {
    "editable": true
   },
   "source": [
    "____________________________________________________________________________________________________________________________"
   ]
  },
  {
   "cell_type": "markdown",
   "metadata": {
    "editable": true
   },
   "source": [
    "### Step 4: Run Pipelines to Model the Data \n",
    "#### 4.1 Create the data model\n",
    "Build the data pipelines to create the data model.\n",
    "\n",
    "### Functions to create Dimension tables\n",
    "____________________________________________________________________________________________________________________________"
   ]
  },
  {
   "cell_type": "code",
   "execution_count": 21,
   "metadata": {
    "editable": true
   },
   "outputs": [],
   "source": [
    "def create_immigrant_dimension(staging_table):\n",
    "    dim_immigrant = staging_table.select(col('Id').alias('id'),\n",
    "                                          col('Arrival_Date').alias('arrival_date'),\n",
    "                                          col('Age').alias('age'),\n",
    "                                          col('Gender').alias('gender'),\n",
    "                                          col('Visa_Type').alias('visa_type'), \n",
    "                                          col('Mode_of_Arrival').alias('mode_of_arrival')).dropDuplicates()\n",
    "    #dim_immigrant.write.mode('overwrite').partitionBy('gender', 'age').parquet('immigrants_us')\n",
    "    return dim_immigrant"
   ]
  },
  {
   "cell_type": "code",
   "execution_count": 32,
   "metadata": {
    "editable": true
   },
   "outputs": [],
   "source": [
    "def create_demographics_dimension(staging_table):\n",
    "    dim_demographic = staging_table.select('id', 'city_code', 'male_population',\n",
    "                                     'female_population', 'total_population', 'number_of_veterans',\n",
    "                                     'foreign_born').dropDuplicates()\n",
    "    dim_demographic = dim_demographic.groupby('city_code').agg(sum('total_population').alias('total_population'), sum('male_population').alias('male_population'), sum('female_population').alias('female_population'), sum('foreign_born').alias('foreign_born'), sum('number_of_veterans').alias('number_of_veterans'))\n",
    "    #dim_demographic.write.mode(\"overwrite\").partitionBy(\"city_code\").parquet(\"city_us\")\n",
    "    return dim_demographic"
   ]
  },
  {
   "cell_type": "code",
   "execution_count": 60,
   "metadata": {
    "editable": true
   },
   "outputs": [],
   "source": [
    "def create_state_dimension(staging_table):\n",
    "    dim_state = staging_table.select('id', 'state_code', 'male_population',\n",
    "                                     'female_population', 'total_population', 'number_of_veterans',\n",
    "                                     'foreign_born').dropDuplicates()\n",
    "    dim_state = dim_state.groupby('state_code').agg(sum('total_population').alias('total_population'), sum('male_population').alias('male_population'), sum('female_population').alias('female_population'), sum('foreign_born').alias('foreign_born'), sum('number_of_veterans').alias('number_of_veterans'))\n",
    "    #dim_state.write.mode(\"overwrite\").partitionBy(\"state_code\").parquet(\"state_us\")\n",
    "    return dim_state"
   ]
  },
  {
   "cell_type": "code",
   "execution_count": 25,
   "metadata": {
    "editable": true
   },
   "outputs": [],
   "source": [
    "def create_visa_dimension(staging_table):\n",
    "    dim_visatype = staging_table.select('visa_type_id', 'visa_type').dropDuplicates()\n",
    "    #dim_visatype.write.mode(\"overwrite\").parquet(\"visatype_us\")\n",
    "    return dim_visatype"
   ]
  },
  {
   "cell_type": "code",
   "execution_count": 26,
   "metadata": {
    "editable": true
   },
   "outputs": [],
   "source": [
    "def create_airports_dimension(staging_table):\n",
    "    dim_airport = staging_table.select(col('Id').alias('id'),\n",
    "                                     col('Name').alias('name'),\n",
    "                                     col('Type').alias('type'),\n",
    "                                     col('Elevation_ft').alias('elevation_ft'),\n",
    "                                     col('State_Code').alias('state_code'),\n",
    "                                     col('Country_Code').alias('country_code')).dropDuplicates()\n",
    "    #dim_airport.write.mode(\"overwrite\").partitionBy(\"state_code\").parquet(\"airport_us\")\n",
    "    return dim_airport"
   ]
  },
  {
   "cell_type": "code",
   "execution_count": 27,
   "metadata": {
    "editable": true
   },
   "outputs": [],
   "source": [
    "def create_arrivaldate_dimension(staging_table):\n",
    "    dim_arrivaldate = staging_table.select(col('Arrival_Date').alias('date'))\n",
    "    dim_arrivaldate = dim_arrivaldate.withColumn('year', year('date')).withColumn('month', month('date')).withColumn('day', dayofmonth('date')).withColumn('week', weekofyear('date')).dropDuplicates()\n",
    "    #dim_arrivaldate.write.mode('overwrite').partitionBy('month').parquet('arrival_date')\n",
    "    return dim_arrivaldate\n"
   ]
  },
  {
   "cell_type": "markdown",
   "metadata": {
    "editable": true
   },
   "source": [
    "____________________________________________________________________________________________________________________________\n",
    "\n",
    "### Functions to create Fact table\n",
    "____________________________________________________________________________________________________________________________"
   ]
  },
  {
   "cell_type": "code",
   "execution_count": 28,
   "metadata": {
    "editable": true
   },
   "outputs": [],
   "source": [
    "def create_immig_fact(staging_table):\n",
    "    immig_fact = staging_table.select(col('Id').alias('id'),\n",
    "                                        col('State_Code').alias('state_code'),\n",
    "                                        col('City_Code').alias('city_code'),\n",
    "                                        col('Arrival_Date').alias('arrival_Date'),\n",
    "                                        col('Visa_Type').alias('visa_type'),\n",
    "                                           'count').dropDuplicates()\n",
    "    #immig_fact.write.mode(\"overwrite\").partitionBy(\"state_code\", \"city_code\").parquet(\"immigration_us\")\n",
    "    return immig_fact"
   ]
  },
  {
   "cell_type": "markdown",
   "metadata": {
    "editable": true
   },
   "source": [
    "____________________________________________________________________________________________________________________________\n",
    "\n",
    "### Creating the data model\n",
    "____________________________________________________________________________________________________________________________"
   ]
  },
  {
   "cell_type": "code",
   "execution_count": 61,
   "metadata": {
    "editable": true
   },
   "outputs": [],
   "source": [
    "dim_immigrant = create_immigrant_dimension(staging_immigration)\n",
    "dim_demographic = create_demographics_dimension(staging_demographic)\n",
    "dim_state = create_state_dimension(staging_demographic)\n",
    "dim_visatype = create_visa_dimension(staging_visatype)\n",
    "dim_airport = create_airports_dimension(staging_airports)\n",
    "dim_arrivaldate = create_arrivaldate_dimension(staging_immigration)\n",
    "\n",
    "immig_fact = create_immig_fact(staging_immigration)"
   ]
  },
  {
   "cell_type": "code",
   "execution_count": 62,
   "metadata": {
    "editable": true
   },
   "outputs": [
    {
     "data": {
      "text/plain": [
       "45"
      ]
     },
     "execution_count": 62,
     "metadata": {},
     "output_type": "execute_result"
    }
   ],
   "source": [
    "dim_state.count()"
   ]
  },
  {
   "cell_type": "code",
   "execution_count": 63,
   "metadata": {
    "editable": true
   },
   "outputs": [
    {
     "data": {
      "text/html": [
       "<div>\n",
       "<style scoped>\n",
       "    .dataframe tbody tr th:only-of-type {\n",
       "        vertical-align: middle;\n",
       "    }\n",
       "\n",
       "    .dataframe tbody tr th {\n",
       "        vertical-align: top;\n",
       "    }\n",
       "\n",
       "    .dataframe thead th {\n",
       "        text-align: right;\n",
       "    }\n",
       "</style>\n",
       "<table border=\"1\" class=\"dataframe\">\n",
       "  <thead>\n",
       "    <tr style=\"text-align: right;\">\n",
       "      <th></th>\n",
       "      <th>state_code</th>\n",
       "      <th>total_population</th>\n",
       "      <th>male_population</th>\n",
       "      <th>female_population</th>\n",
       "      <th>foreign_born</th>\n",
       "      <th>number_of_veterans</th>\n",
       "    </tr>\n",
       "  </thead>\n",
       "  <tbody>\n",
       "    <tr>\n",
       "      <th>0</th>\n",
       "      <td>AZ</td>\n",
       "      <td>14159475</td>\n",
       "      <td>7075805</td>\n",
       "      <td>7083670</td>\n",
       "      <td>2370000</td>\n",
       "      <td>812895</td>\n",
       "    </tr>\n",
       "    <tr>\n",
       "      <th>1</th>\n",
       "      <td>SC</td>\n",
       "      <td>1344585</td>\n",
       "      <td>658210</td>\n",
       "      <td>686375</td>\n",
       "      <td>59205</td>\n",
       "      <td>75380</td>\n",
       "    </tr>\n",
       "    <tr>\n",
       "      <th>2</th>\n",
       "      <td>LA</td>\n",
       "      <td>3471395</td>\n",
       "      <td>1664530</td>\n",
       "      <td>1806865</td>\n",
       "      <td>185810</td>\n",
       "      <td>162490</td>\n",
       "    </tr>\n",
       "    <tr>\n",
       "      <th>3</th>\n",
       "      <td>MN</td>\n",
       "      <td>991710</td>\n",
       "      <td>481025</td>\n",
       "      <td>510685</td>\n",
       "      <td>100105</td>\n",
       "      <td>59515</td>\n",
       "    </tr>\n",
       "    <tr>\n",
       "      <th>4</th>\n",
       "      <td>NJ</td>\n",
       "      <td>3300686</td>\n",
       "      <td>1625593</td>\n",
       "      <td>1675093</td>\n",
       "      <td>1110059</td>\n",
       "      <td>65615</td>\n",
       "    </tr>\n",
       "    <tr>\n",
       "      <th>5</th>\n",
       "      <td>DC</td>\n",
       "      <td>3361140</td>\n",
       "      <td>1598525</td>\n",
       "      <td>1762615</td>\n",
       "      <td>475585</td>\n",
       "      <td>129815</td>\n",
       "    </tr>\n",
       "    <tr>\n",
       "      <th>6</th>\n",
       "      <td>OR</td>\n",
       "      <td>4506795</td>\n",
       "      <td>2231710</td>\n",
       "      <td>2275085</td>\n",
       "      <td>573945</td>\n",
       "      <td>246980</td>\n",
       "    </tr>\n",
       "    <tr>\n",
       "      <th>7</th>\n",
       "      <td>VA</td>\n",
       "      <td>4022775</td>\n",
       "      <td>1988235</td>\n",
       "      <td>2034540</td>\n",
       "      <td>405585</td>\n",
       "      <td>364965</td>\n",
       "    </tr>\n",
       "    <tr>\n",
       "      <th>8</th>\n",
       "      <td>RI</td>\n",
       "      <td>1222812</td>\n",
       "      <td>602606</td>\n",
       "      <td>620206</td>\n",
       "      <td>288932</td>\n",
       "      <td>47861</td>\n",
       "    </tr>\n",
       "    <tr>\n",
       "      <th>9</th>\n",
       "      <td>NH</td>\n",
       "      <td>551115</td>\n",
       "      <td>274225</td>\n",
       "      <td>276890</td>\n",
       "      <td>72530</td>\n",
       "      <td>27365</td>\n",
       "    </tr>\n",
       "  </tbody>\n",
       "</table>\n",
       "</div>"
      ],
      "text/plain": [
       "  state_code  total_population  male_population  female_population  \\\n",
       "0         AZ          14159475          7075805            7083670   \n",
       "1         SC           1344585           658210             686375   \n",
       "2         LA           3471395          1664530            1806865   \n",
       "3         MN            991710           481025             510685   \n",
       "4         NJ           3300686          1625593            1675093   \n",
       "5         DC           3361140          1598525            1762615   \n",
       "6         OR           4506795          2231710            2275085   \n",
       "7         VA           4022775          1988235            2034540   \n",
       "8         RI           1222812           602606             620206   \n",
       "9         NH            551115           274225             276890   \n",
       "\n",
       "   foreign_born  number_of_veterans  \n",
       "0       2370000              812895  \n",
       "1         59205               75380  \n",
       "2        185810              162490  \n",
       "3        100105               59515  \n",
       "4       1110059               65615  \n",
       "5        475585              129815  \n",
       "6        573945              246980  \n",
       "7        405585              364965  \n",
       "8        288932               47861  \n",
       "9         72530               27365  "
      ]
     },
     "execution_count": 63,
     "metadata": {},
     "output_type": "execute_result"
    }
   ],
   "source": [
    "dim_state.limit(10).toPandas()"
   ]
  },
  {
   "cell_type": "markdown",
   "metadata": {
    "editable": true
   },
   "source": [
    "____________________________________________________________________________________________________________________________\n",
    "\n",
    "#### 4.2 Data Quality Checks\n",
    "\n",
    "Checking if the etl ran as expectted by checking for the data for the resultant dimension and fact tables\n",
    "\n",
    "Run Quality Checks"
   ]
  },
  {
   "cell_type": "code",
   "execution_count": 39,
   "metadata": {
    "editable": true
   },
   "outputs": [],
   "source": [
    "# Perform quality checks here\n",
    "\n",
    "# Check if tables are created here\n",
    "\n",
    "def table_check(table):\n",
    "    if table is not None:\n",
    "        return True\n",
    "    else:\n",
    "        return False\n",
    "\n",
    "# Check if data is present or not here\n",
    "    \n",
    "def data_check(table):\n",
    "    return table.count() != 0\n",
    "\n",
    "# Check if ids of columns are of expected data type or not here\n",
    "\n",
    "def quality_check(table, col):\n",
    "    a = dict(table.dtypes)[col]\n",
    "    if (a in ['bigint', 'double', 'string']):\n",
    "        print('Data Quality check passed !')\n",
    "    else:\n",
    "        print('Data Quality check failed')\n",
    "    return"
   ]
  },
  {
   "cell_type": "code",
   "execution_count": 64,
   "metadata": {
    "editable": true
   },
   "outputs": [
    {
     "name": "stdout",
     "output_type": "stream",
     "text": [
      "All Dimensions and one Fact table exists\n"
     ]
    }
   ],
   "source": [
    "if table_check(dim_immigrant) & table_check(dim_demographic) & table_check(dim_state) & table_check(dim_visatype) & table_check(dim_airport) & table_check(dim_arrivaldate) & table_check(immig_fact):\n",
    "    print(\"All Dimensions and one Fact table exists\")\n",
    "else:\n",
    "    print(\"one or more table is missing\")\n"
   ]
  },
  {
   "cell_type": "code",
   "execution_count": 41,
   "metadata": {
    "editable": true
   },
   "outputs": [
    {
     "name": "stdout",
     "output_type": "stream",
     "text": [
      "Data Quality check passed !\n"
     ]
    }
   ],
   "source": [
    "if data_check(dim_immigrant) & data_check(dim_demographic) & data_check(dim_state) & data_check(dim_visatype) & data_check(dim_airport) & data_check(dim_arrivaldate) & data_check(immig_fact):\n",
    "    print('Data Quality check passed !')\n",
    "else:\n",
    "    print('Data Quality check failed')"
   ]
  },
  {
   "cell_type": "code",
   "execution_count": 65,
   "metadata": {
    "editable": true
   },
   "outputs": [
    {
     "name": "stdout",
     "output_type": "stream",
     "text": [
      "Data Quality check passed !\n",
      "Data Quality check passed !\n",
      "Data Quality check passed !\n",
      "Data Quality check passed !\n",
      "Data Quality check passed !\n",
      "Data Quality check passed !\n",
      "Data Quality check passed !\n"
     ]
    }
   ],
   "source": [
    "quality_check(dim_immigrant, 'id')\n",
    "quality_check(dim_demographic, 'city_code')\n",
    "quality_check(dim_state, 'state_code')\n",
    "quality_check(dim_visatype, 'visa_type_id')\n",
    "quality_check(dim_airport, 'id')\n",
    "quality_check(immig_fact, 'id')\n",
    "quality_check(dim_arrivaldate, 'date')"
   ]
  },
  {
   "cell_type": "markdown",
   "metadata": {
    "editable": true
   },
   "source": [
    "### Run SQL Queries to check the expected analysis"
   ]
  },
  {
   "cell_type": "code",
   "execution_count": 44,
   "metadata": {
    "editable": true
   },
   "outputs": [],
   "source": [
    "dim_immigrant.createOrReplaceTempView('dim_immigrant')\n",
    "df = spark.sql('SELECT * FROM dim_immigrant')"
   ]
  },
  {
   "cell_type": "code",
   "execution_count": 45,
   "metadata": {
    "editable": true
   },
   "outputs": [],
   "source": [
    "dim_demographic.createOrReplaceTempView('dim_demographic')\n",
    "df1 = spark.sql('SELECT * FROM dim_demographic')"
   ]
  },
  {
   "cell_type": "code",
   "execution_count": 66,
   "metadata": {
    "editable": true
   },
   "outputs": [],
   "source": [
    "dim_state.createOrReplaceTempView('dim_state')\n",
    "ds = spark.sql('SELECT * FROM dim_state')"
   ]
  },
  {
   "cell_type": "code",
   "execution_count": 75,
   "metadata": {
    "editable": true
   },
   "outputs": [],
   "source": [
    "dim_visatype.createOrReplaceTempView('dim_visatype')\n",
    "df2 = spark.sql('SELECT * FROM dim_visatype')"
   ]
  },
  {
   "cell_type": "code",
   "execution_count": 76,
   "metadata": {
    "editable": true
   },
   "outputs": [],
   "source": [
    "dim_airport.createOrReplaceTempView('dim_airport')\n",
    "df3 = spark.sql('SELECT * FROM dim_airport')"
   ]
  },
  {
   "cell_type": "code",
   "execution_count": 77,
   "metadata": {
    "editable": true
   },
   "outputs": [],
   "source": [
    "dim_arrivaldate.createOrReplaceTempView('dim_arrivaldate')\n",
    "df4 = spark.sql('SELECT * FROM dim_arrivaldate')"
   ]
  },
  {
   "cell_type": "code",
   "execution_count": 78,
   "metadata": {
    "editable": true
   },
   "outputs": [],
   "source": [
    "immig_fact.createOrReplaceTempView('immig_fact')\n",
    "df5 = spark.sql('SELECT * FROM immig_fact')"
   ]
  },
  {
   "cell_type": "code",
   "execution_count": 51,
   "metadata": {
    "editable": true
   },
   "outputs": [],
   "source": [
    "#query to get total immigrants based on their visa type\n",
    "query = spark.sql('SELECT COUNT(i.id) as total_immigrants, v.visa_type \\\n",
    "                  FROM dim_immigrant as i JOIN dim_visatype as v \\\n",
    "                  ON i.visa_type = v.visa_type \\\n",
    "                  GROUP BY v.visa_type \\\n",
    "                  ORDER BY total_immigrants DESC')"
   ]
  },
  {
   "cell_type": "code",
   "execution_count": 52,
   "metadata": {
    "editable": true
   },
   "outputs": [
    {
     "data": {
      "text/html": [
       "<div>\n",
       "<style scoped>\n",
       "    .dataframe tbody tr th:only-of-type {\n",
       "        vertical-align: middle;\n",
       "    }\n",
       "\n",
       "    .dataframe tbody tr th {\n",
       "        vertical-align: top;\n",
       "    }\n",
       "\n",
       "    .dataframe thead th {\n",
       "        text-align: right;\n",
       "    }\n",
       "</style>\n",
       "<table border=\"1\" class=\"dataframe\">\n",
       "  <thead>\n",
       "    <tr style=\"text-align: right;\">\n",
       "      <th></th>\n",
       "      <th>total_immigrants</th>\n",
       "      <th>visa_type</th>\n",
       "    </tr>\n",
       "  </thead>\n",
       "  <tbody>\n",
       "    <tr>\n",
       "      <th>0</th>\n",
       "      <td>1026625</td>\n",
       "      <td>WT</td>\n",
       "    </tr>\n",
       "    <tr>\n",
       "      <th>1</th>\n",
       "      <td>970383</td>\n",
       "      <td>B2</td>\n",
       "    </tr>\n",
       "    <tr>\n",
       "      <th>2</th>\n",
       "      <td>183798</td>\n",
       "      <td>WB</td>\n",
       "    </tr>\n",
       "    <tr>\n",
       "      <th>3</th>\n",
       "      <td>180794</td>\n",
       "      <td>B1</td>\n",
       "    </tr>\n",
       "    <tr>\n",
       "      <th>4</th>\n",
       "      <td>35640</td>\n",
       "      <td>F1</td>\n",
       "    </tr>\n",
       "    <tr>\n",
       "      <th>5</th>\n",
       "      <td>17795</td>\n",
       "      <td>E2</td>\n",
       "    </tr>\n",
       "    <tr>\n",
       "      <th>6</th>\n",
       "      <td>3481</td>\n",
       "      <td>E1</td>\n",
       "    </tr>\n",
       "    <tr>\n",
       "      <th>7</th>\n",
       "      <td>3065</td>\n",
       "      <td>I</td>\n",
       "    </tr>\n",
       "    <tr>\n",
       "      <th>8</th>\n",
       "      <td>2793</td>\n",
       "      <td>F2</td>\n",
       "    </tr>\n",
       "    <tr>\n",
       "      <th>9</th>\n",
       "      <td>1279</td>\n",
       "      <td>M1</td>\n",
       "    </tr>\n",
       "    <tr>\n",
       "      <th>10</th>\n",
       "      <td>634</td>\n",
       "      <td>CP</td>\n",
       "    </tr>\n",
       "    <tr>\n",
       "      <th>11</th>\n",
       "      <td>221</td>\n",
       "      <td>I1</td>\n",
       "    </tr>\n",
       "    <tr>\n",
       "      <th>12</th>\n",
       "      <td>72</td>\n",
       "      <td>GMT</td>\n",
       "    </tr>\n",
       "    <tr>\n",
       "      <th>13</th>\n",
       "      <td>49</td>\n",
       "      <td>M2</td>\n",
       "    </tr>\n",
       "    <tr>\n",
       "      <th>14</th>\n",
       "      <td>10</td>\n",
       "      <td>CPL</td>\n",
       "    </tr>\n",
       "    <tr>\n",
       "      <th>15</th>\n",
       "      <td>8</td>\n",
       "      <td>SBP</td>\n",
       "    </tr>\n",
       "  </tbody>\n",
       "</table>\n",
       "</div>"
      ],
      "text/plain": [
       "    total_immigrants visa_type\n",
       "0            1026625        WT\n",
       "1             970383        B2\n",
       "2             183798        WB\n",
       "3             180794        B1\n",
       "4              35640        F1\n",
       "5              17795        E2\n",
       "6               3481        E1\n",
       "7               3065         I\n",
       "8               2793        F2\n",
       "9               1279        M1\n",
       "10               634        CP\n",
       "11               221        I1\n",
       "12                72       GMT\n",
       "13                49        M2\n",
       "14                10       CPL\n",
       "15                 8       SBP"
      ]
     },
     "execution_count": 52,
     "metadata": {},
     "output_type": "execute_result"
    }
   ],
   "source": [
    "query.toPandas()"
   ]
  },
  {
   "cell_type": "code",
   "execution_count": 52,
   "metadata": {
    "editable": true
   },
   "outputs": [],
   "source": [
    "#query to get total immigrants arrived on diiferent week of the year 2016\n",
    "immigrants_datewise = spark.sql('SELECT COUNT(i.id) as total_immigrants, a.week \\\n",
    "                  FROM dim_immigrant as i JOIN dim_arrivaldate as a \\\n",
    "                  ON i.arrival_date = a.date \\\n",
    "                  GROUP BY a.week \\\n",
    "                  ORDER BY total_immigrants DESC')"
   ]
  },
  {
   "cell_type": "code",
   "execution_count": 50,
   "metadata": {
    "editable": true
   },
   "outputs": [
    {
     "data": {
      "text/html": [
       "<div>\n",
       "<style scoped>\n",
       "    .dataframe tbody tr th:only-of-type {\n",
       "        vertical-align: middle;\n",
       "    }\n",
       "\n",
       "    .dataframe tbody tr th {\n",
       "        vertical-align: top;\n",
       "    }\n",
       "\n",
       "    .dataframe thead th {\n",
       "        text-align: right;\n",
       "    }\n",
       "</style>\n",
       "<table border=\"1\" class=\"dataframe\">\n",
       "  <thead>\n",
       "    <tr style=\"text-align: right;\">\n",
       "      <th></th>\n",
       "      <th>total_immigrants</th>\n",
       "      <th>week</th>\n",
       "    </tr>\n",
       "  </thead>\n",
       "  <tbody>\n",
       "    <tr>\n",
       "      <th>0</th>\n",
       "      <td>559190</td>\n",
       "      <td>15</td>\n",
       "    </tr>\n",
       "    <tr>\n",
       "      <th>1</th>\n",
       "      <td>548274</td>\n",
       "      <td>16</td>\n",
       "    </tr>\n",
       "    <tr>\n",
       "      <th>2</th>\n",
       "      <td>542119</td>\n",
       "      <td>14</td>\n",
       "    </tr>\n",
       "    <tr>\n",
       "      <th>3</th>\n",
       "      <td>531724</td>\n",
       "      <td>17</td>\n",
       "    </tr>\n",
       "    <tr>\n",
       "      <th>4</th>\n",
       "      <td>245340</td>\n",
       "      <td>13</td>\n",
       "    </tr>\n",
       "  </tbody>\n",
       "</table>\n",
       "</div>"
      ],
      "text/plain": [
       "   total_immigrants  week\n",
       "0            559190    15\n",
       "1            548274    16\n",
       "2            542119    14\n",
       "3            531724    17\n",
       "4            245340    13"
      ]
     },
     "execution_count": 50,
     "metadata": {},
     "output_type": "execute_result"
    }
   ],
   "source": [
    "immigrants_datewise.toPandas()"
   ]
  },
  {
   "cell_type": "code",
   "execution_count": 58,
   "metadata": {
    "editable": true
   },
   "outputs": [],
   "source": [
    "#query to get total immigrant arrivals to different US cities\n",
    "dim2 = spark.sql('SELECT d.city_code, COUNT(immig.arrival_date) as total_arrivals \\\n",
    "                    FROM immig_fact AS immig \\\n",
    "                    JOIN dim_demographic AS d \\\n",
    "                    ON d.city_code = immig.city_code \\\n",
    "                    GROUP BY d.city_code \\\n",
    "                    ORDER BY total_arrivals DESC')"
   ]
  },
  {
   "cell_type": "code",
   "execution_count": 59,
   "metadata": {
    "editable": true
   },
   "outputs": [
    {
     "data": {
      "text/html": [
       "<div>\n",
       "<style scoped>\n",
       "    .dataframe tbody tr th:only-of-type {\n",
       "        vertical-align: middle;\n",
       "    }\n",
       "\n",
       "    .dataframe tbody tr th {\n",
       "        vertical-align: top;\n",
       "    }\n",
       "\n",
       "    .dataframe thead th {\n",
       "        text-align: right;\n",
       "    }\n",
       "</style>\n",
       "<table border=\"1\" class=\"dataframe\">\n",
       "  <thead>\n",
       "    <tr style=\"text-align: right;\">\n",
       "      <th></th>\n",
       "      <th>city_code</th>\n",
       "      <th>total_arrivals</th>\n",
       "    </tr>\n",
       "  </thead>\n",
       "  <tbody>\n",
       "    <tr>\n",
       "      <th>0</th>\n",
       "      <td>NYC</td>\n",
       "      <td>384849</td>\n",
       "    </tr>\n",
       "    <tr>\n",
       "      <th>1</th>\n",
       "      <td>MIA</td>\n",
       "      <td>285810</td>\n",
       "    </tr>\n",
       "    <tr>\n",
       "      <th>2</th>\n",
       "      <td>LOS</td>\n",
       "      <td>246235</td>\n",
       "    </tr>\n",
       "    <tr>\n",
       "      <th>3</th>\n",
       "      <td>SFR</td>\n",
       "      <td>136657</td>\n",
       "    </tr>\n",
       "    <tr>\n",
       "      <th>4</th>\n",
       "      <td>NEW</td>\n",
       "      <td>130661</td>\n",
       "    </tr>\n",
       "    <tr>\n",
       "      <th>5</th>\n",
       "      <td>ORL</td>\n",
       "      <td>120282</td>\n",
       "    </tr>\n",
       "    <tr>\n",
       "      <th>6</th>\n",
       "      <td>CHI</td>\n",
       "      <td>103691</td>\n",
       "    </tr>\n",
       "    <tr>\n",
       "      <th>7</th>\n",
       "      <td>HOU</td>\n",
       "      <td>87456</td>\n",
       "    </tr>\n",
       "    <tr>\n",
       "      <th>8</th>\n",
       "      <td>FTL</td>\n",
       "      <td>80190</td>\n",
       "    </tr>\n",
       "    <tr>\n",
       "      <th>9</th>\n",
       "      <td>LVG</td>\n",
       "      <td>78376</td>\n",
       "    </tr>\n",
       "  </tbody>\n",
       "</table>\n",
       "</div>"
      ],
      "text/plain": [
       "  city_code  total_arrivals\n",
       "0       NYC          384849\n",
       "1       MIA          285810\n",
       "2       LOS          246235\n",
       "3       SFR          136657\n",
       "4       NEW          130661\n",
       "5       ORL          120282\n",
       "6       CHI          103691\n",
       "7       HOU           87456\n",
       "8       FTL           80190\n",
       "9       LVG           78376"
      ]
     },
     "execution_count": 59,
     "metadata": {},
     "output_type": "execute_result"
    }
   ],
   "source": [
    "dim2.limit(10).toPandas()"
   ]
  },
  {
   "cell_type": "code",
   "execution_count": 85,
   "metadata": {
    "editable": true
   },
   "outputs": [],
   "source": [
    "#query to get total airports in different US states\n",
    "statewise_airport_data = spark.sql('SELECT COUNT(air.name) as number_of_airports, ds.state_code \\\n",
    "                  FROM dim_airport as air \\\n",
    "                  JOIN dim_state as dS \\\n",
    "                  ON air.state_code = dS.state_code \\\n",
    "                  GROUP BY ds.state_code \\\n",
    "                  ORDER BY number_of_airports DESC')"
   ]
  },
  {
   "cell_type": "code",
   "execution_count": 86,
   "metadata": {
    "editable": true
   },
   "outputs": [
    {
     "data": {
      "text/html": [
       "<div>\n",
       "<style scoped>\n",
       "    .dataframe tbody tr th:only-of-type {\n",
       "        vertical-align: middle;\n",
       "    }\n",
       "\n",
       "    .dataframe tbody tr th {\n",
       "        vertical-align: top;\n",
       "    }\n",
       "\n",
       "    .dataframe thead th {\n",
       "        text-align: right;\n",
       "    }\n",
       "</style>\n",
       "<table border=\"1\" class=\"dataframe\">\n",
       "  <thead>\n",
       "    <tr style=\"text-align: right;\">\n",
       "      <th></th>\n",
       "      <th>number_of_airports</th>\n",
       "      <th>state_code</th>\n",
       "    </tr>\n",
       "  </thead>\n",
       "  <tbody>\n",
       "    <tr>\n",
       "      <th>0</th>\n",
       "      <td>2268</td>\n",
       "      <td>TX</td>\n",
       "    </tr>\n",
       "    <tr>\n",
       "      <th>1</th>\n",
       "      <td>1071</td>\n",
       "      <td>CA</td>\n",
       "    </tr>\n",
       "    <tr>\n",
       "      <th>2</th>\n",
       "      <td>954</td>\n",
       "      <td>FL</td>\n",
       "    </tr>\n",
       "    <tr>\n",
       "      <th>3</th>\n",
       "      <td>913</td>\n",
       "      <td>PA</td>\n",
       "    </tr>\n",
       "    <tr>\n",
       "      <th>4</th>\n",
       "      <td>901</td>\n",
       "      <td>IL</td>\n",
       "    </tr>\n",
       "    <tr>\n",
       "      <th>5</th>\n",
       "      <td>799</td>\n",
       "      <td>OH</td>\n",
       "    </tr>\n",
       "    <tr>\n",
       "      <th>6</th>\n",
       "      <td>784</td>\n",
       "      <td>AK</td>\n",
       "    </tr>\n",
       "    <tr>\n",
       "      <th>7</th>\n",
       "      <td>696</td>\n",
       "      <td>IN</td>\n",
       "    </tr>\n",
       "    <tr>\n",
       "      <th>8</th>\n",
       "      <td>645</td>\n",
       "      <td>NY</td>\n",
       "    </tr>\n",
       "    <tr>\n",
       "      <th>9</th>\n",
       "      <td>624</td>\n",
       "      <td>WI</td>\n",
       "    </tr>\n",
       "  </tbody>\n",
       "</table>\n",
       "</div>"
      ],
      "text/plain": [
       "   number_of_airports state_code\n",
       "0                2268         TX\n",
       "1                1071         CA\n",
       "2                 954         FL\n",
       "3                 913         PA\n",
       "4                 901         IL\n",
       "5                 799         OH\n",
       "6                 784         AK\n",
       "7                 696         IN\n",
       "8                 645         NY\n",
       "9                 624         WI"
      ]
     },
     "execution_count": 86,
     "metadata": {},
     "output_type": "execute_result"
    }
   ],
   "source": [
    "statewise_airport_data.limit(10).toPandas()"
   ]
  },
  {
   "cell_type": "markdown",
   "metadata": {
    "editable": true
   },
   "source": [
    "#### 4.3 Data dictionary \n",
    "\n",
    "### Dimension table:\n",
    "\n",
    "1. **dim_immigrant:**\n",
    "    * **id:** unique id for the immigrants\n",
    "    * **arrival_date:** date of the immigrant's arrival\n",
    "    * **gender:** gender of the immigrant\n",
    "    * **age:** age of the immigrant\n",
    "    * **visa_type:** visa type given to the immigrant\n",
    "    * **mode_of_arrival:** mode of arrival by the immigrant into the US\n",
    "    \n",
    "2. **dim_demographic:**\n",
    "    * **city_code:** code of the city\n",
    "    * **male_population:** total male population in the city\n",
    "    * **female_population:** total female population in the city\n",
    "    * **total_population:** total population in the city\n",
    "    * **number_of_veterans:** total number of veterans in the city\n",
    "    * **foreign_born:** number of people born outside US in the city\n",
    "    \n",
    "2. **dim_state:**\n",
    "    * **state_code:** code of the state where city belongs\n",
    "    * **male_population:** total male population in the city\n",
    "    * **female_population:** total female population in the city\n",
    "    * **total_population:** total population in the city\n",
    "    * **number_of_veterans:** total number of veterans in the city\n",
    "    * **foreign_born:** number of people born outside US in the city\n",
    "    \n",
    "3. **dim_airport:**\n",
    "    * **id:** code for the airport\n",
    "    * **name:** name of the airport\n",
    "    * **type:** type of the airport\n",
    "    * **elevation_ft:** elevation in feets of the airport\n",
    "    * **state_code:** code of the state where the airport is located\n",
    "    * **country_code:** code of the country where the airport is located\n",
    "\n",
    "4. **dim_visatype:**\n",
    "    * **visa_type_id:** id for the visa type\n",
    "    * **visa_type:** type of visa\n",
    "\n",
    "5. **dim_arrivaldate:**\n",
    "    * **date:** arrival date of the immigrant\n",
    "    * **year:** year of arrival\n",
    "    * **month:** month of arrival\n",
    "    * **day:** day of arrival\n",
    "    * **week:** week number of a year of arrival\n",
    "\n",
    "\n",
    "### Fact Table:\n",
    "1. **immig_fact:**\n",
    "    * **id:** unique record id of the immgration\n",
    "    * **state_code:** code of the state where city belongs\n",
    "    * **city_code:** code of the city**\n",
    "    * **arrival_Date:** arrival date of the immigrant\n",
    "    * **visa_type:** type of visa\n",
    "    * **count:** count of immigrant"
   ]
  },
  {
   "cell_type": "markdown",
   "metadata": {
    "editable": true
   },
   "source": [
    "#### Step 5: Complete Project Write Up\n",
    "* **Clearly state the rationale for the choice of tools and technologies for the project.**\n",
    "    - We use Spark since it the best tool to process large amount of data with so many advantages like fast processing, easier scaling if needed and has very good integrations and dynamic in nature.\n",
    "\n",
    "* **Propose how often the data should be updated and why.**\n",
    "    =the data should be update on the basis of how often newer data is available, for example if we get an update on the immigration data or if there are more newer airports constructed then we might need to update the data. So it is suggested to checck and update the data in a monthly basis to facilitate our requirements\n",
    "\n",
    "* **Write a description of how you would approach the problem differently under the following scenarios:**\n",
    " * **The data was increased by 100x.:** Increase in data can be handled by increasing the processing power so a powerful (larger) EC2 instance along with increase in the number of clusters or worker nodes of spark can handle them\n",
    " * **The data populates a dashboard that must be updated on a daily basis by 7am every day.:** We can achieve them by using Apache Airflow by creating and scheduling the DAGs to check and update the data pipelines on a daily basis\n",
    " * **The database needed to be accessed by 100+ people.:* We can move the work to a data warehouse with larger processing power ( Amazon Redshift) in order to enable the access for large number of people"
   ]
  },
  {
   "cell_type": "code",
   "execution_count": null,
   "metadata": {
    "editable": true
   },
   "outputs": [],
   "source": []
  }
 ],
 "metadata": {
  "kernelspec": {
   "display_name": "Python 3",
   "language": "python",
   "name": "python3"
  },
  "language_info": {
   "codemirror_mode": {
    "name": "ipython",
    "version": 3
   },
   "file_extension": ".py",
   "mimetype": "text/x-python",
   "name": "python",
   "nbconvert_exporter": "python",
   "pygments_lexer": "ipython3",
   "version": "3.6.3"
  }
 },
 "nbformat": 4,
 "nbformat_minor": 4
}
